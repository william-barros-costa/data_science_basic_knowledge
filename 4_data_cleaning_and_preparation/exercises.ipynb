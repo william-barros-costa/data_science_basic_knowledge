{
 "cells": [
  {
   "cell_type": "code",
   "execution_count": 1,
   "metadata": {},
   "outputs": [],
   "source": [
    "import numpy as np\n",
    "import pandas as pd\n",
    "import seaborn as sns"
   ]
  },
  {
   "attachments": {},
   "cell_type": "markdown",
   "metadata": {},
   "source": [
    "*Exercise: Load the 'tips' dataset from seaborn library and perform the following data cleaning and preparation tasks:*\n",
    "- Drop any missing values from the dataset.\n",
    "- Convert the 'tip' column to integer values by rounding it to the nearest integer.\n",
    "- Create a new column called 'tip_percentage' which represents the percentage of tip given by the customer, rounded to two decimal places.\n",
    "- Group the data by 'day' and 'time' and calculate the average tip_percentage for each group."
   ]
  },
  {
   "attachments": {},
   "cell_type": "markdown",
   "metadata": {},
   "source": [
    "### Drop Missing Values"
   ]
  },
  {
   "cell_type": "code",
   "execution_count": 2,
   "metadata": {},
   "outputs": [
    {
     "name": "stdout",
     "output_type": "stream",
     "text": [
      "<class 'pandas.core.frame.DataFrame'>\n",
      "RangeIndex: 244 entries, 0 to 243\n",
      "Data columns (total 7 columns):\n",
      " #   Column      Non-Null Count  Dtype   \n",
      "---  ------      --------------  -----   \n",
      " 0   total_bill  244 non-null    float64 \n",
      " 1   tip         244 non-null    float64 \n",
      " 2   sex         244 non-null    category\n",
      " 3   smoker      244 non-null    category\n",
      " 4   day         244 non-null    category\n",
      " 5   time        244 non-null    category\n",
      " 6   size        244 non-null    int64   \n",
      "dtypes: category(4), float64(2), int64(1)\n",
      "memory usage: 7.4 KB\n"
     ]
    }
   ],
   "source": [
    "tips = sns.load_dataset('tips')\n",
    "tips.info()"
   ]
  },
  {
   "attachments": {},
   "cell_type": "markdown",
   "metadata": {},
   "source": [
    "**NOTE:** Dataset does not have any missing values"
   ]
  },
  {
   "attachments": {},
   "cell_type": "markdown",
   "metadata": {},
   "source": [
    "### Convert 'tip' column to integer by rounding to nearest integer"
   ]
  },
  {
   "cell_type": "code",
   "execution_count": 3,
   "metadata": {},
   "outputs": [
    {
     "data": {
      "text/plain": [
       "dtype('int32')"
      ]
     },
     "execution_count": 3,
     "metadata": {},
     "output_type": "execute_result"
    }
   ],
   "source": [
    "def nearest_integer(value: np.float64) -> np.int64:\n",
    "    return round(value, 0)\n",
    "\n",
    "tips['tip_int'] = tips['tip'].map(nearest_integer)\n",
    "tips['tip_int'].dtype\n",
    "\n",
    "# Another way\n",
    "tips['tip'].round().astype(int).dtype"
   ]
  },
  {
   "attachments": {},
   "cell_type": "markdown",
   "metadata": {},
   "source": [
    "### Create a new column names 'tip_percentage' (percentage of tip given rounded to two decimal places)"
   ]
  },
  {
   "cell_type": "code",
   "execution_count": 4,
   "metadata": {},
   "outputs": [
    {
     "data": {
      "text/plain": [
       "0      0.06\n",
       "1      0.16\n",
       "2      0.17\n",
       "3      0.14\n",
       "4      0.15\n",
       "       ... \n",
       "239    0.20\n",
       "240    0.07\n",
       "241    0.09\n",
       "242    0.10\n",
       "243    0.16\n",
       "Name: tip_percentage, Length: 244, dtype: float64"
      ]
     },
     "execution_count": 4,
     "metadata": {},
     "output_type": "execute_result"
    }
   ],
   "source": [
    "tips['tip_percentage'] = tips['tip'].div(tips['total_bill']).round(2)\n",
    "tips['tip_percentage']"
   ]
  },
  {
   "attachments": {},
   "cell_type": "markdown",
   "metadata": {},
   "source": [
    "### Group data by 'day' and 'time' and calculate the average tip_percentage for each group"
   ]
  },
  {
   "cell_type": "code",
   "execution_count": 5,
   "metadata": {},
   "outputs": [
    {
     "data": {
      "text/plain": [
       "day   time  \n",
       "Thur  Lunch     0.161148\n",
       "      Dinner    0.160000\n",
       "Fri   Lunch     0.188571\n",
       "      Dinner    0.158333\n",
       "Sat   Lunch          NaN\n",
       "      Dinner    0.153678\n",
       "Sun   Lunch          NaN\n",
       "      Dinner    0.166974\n",
       "Name: tip_percentage, dtype: float64"
      ]
     },
     "execution_count": 5,
     "metadata": {},
     "output_type": "execute_result"
    }
   ],
   "source": [
    "tips.groupby(['day', 'time'])['tip_percentage'].mean()"
   ]
  },
  {
   "attachments": {},
   "cell_type": "markdown",
   "metadata": {},
   "source": [
    "## Exercise 2: Load the 'titanic' dataset from seaborn library and perform the following data cleaning and preparation tasks:\n",
    "\n",
    "- Drop any missing values from the dataset.\n",
    "- Create a new column called 'family_size' which represents the total number of family members (including the passenger) on board for each passenger.\n",
    "- Replace the values in the 'sex' column with 0 for 'male' and 1 for 'female'.\n",
    "- Create a new column called 'age_group' which represents the age group of each passenger. The age groups should be as follows:\n",
    "    - Child: age < 18\n",
    "    - Adult: 18 <= age < 60\n",
    "    - Senior: age >= 60\n",
    "- Group the data by 'sex', 'pclass', and 'age_group' and calculate the survival rate for each group."
   ]
  },
  {
   "attachments": {},
   "cell_type": "markdown",
   "metadata": {},
   "source": [
    "### Drop any missing value from dataset"
   ]
  },
  {
   "cell_type": "code",
   "execution_count": 6,
   "metadata": {},
   "outputs": [
    {
     "name": "stdout",
     "output_type": "stream",
     "text": [
      "<class 'pandas.core.frame.DataFrame'>\n",
      "RangeIndex: 891 entries, 0 to 890\n",
      "Data columns (total 15 columns):\n",
      " #   Column       Non-Null Count  Dtype   \n",
      "---  ------       --------------  -----   \n",
      " 0   survived     891 non-null    int64   \n",
      " 1   pclass       891 non-null    int64   \n",
      " 2   sex          891 non-null    object  \n",
      " 3   age          714 non-null    float64 \n",
      " 4   sibsp        891 non-null    int64   \n",
      " 5   parch        891 non-null    int64   \n",
      " 6   fare         891 non-null    float64 \n",
      " 7   embarked     889 non-null    object  \n",
      " 8   class        891 non-null    category\n",
      " 9   who          891 non-null    object  \n",
      " 10  adult_male   891 non-null    bool    \n",
      " 11  deck         203 non-null    category\n",
      " 12  embark_town  889 non-null    object  \n",
      " 13  alive        891 non-null    object  \n",
      " 14  alone        891 non-null    bool    \n",
      "dtypes: bool(2), category(2), float64(2), int64(4), object(5)\n",
      "memory usage: 80.7+ KB\n"
     ]
    }
   ],
   "source": [
    "titanic = sns.load_dataset('titanic')\n",
    "titanic.info()"
   ]
  },
  {
   "cell_type": "code",
   "execution_count": 7,
   "metadata": {},
   "outputs": [],
   "source": [
    "titanic = titanic.drop('deck', axis='columns')\n",
    "titanic = titanic.dropna()"
   ]
  },
  {
   "cell_type": "code",
   "execution_count": 8,
   "metadata": {},
   "outputs": [
    {
     "name": "stdout",
     "output_type": "stream",
     "text": [
      "<class 'pandas.core.frame.DataFrame'>\n",
      "Int64Index: 712 entries, 0 to 890\n",
      "Data columns (total 14 columns):\n",
      " #   Column       Non-Null Count  Dtype   \n",
      "---  ------       --------------  -----   \n",
      " 0   survived     712 non-null    int64   \n",
      " 1   pclass       712 non-null    int64   \n",
      " 2   sex          712 non-null    object  \n",
      " 3   age          712 non-null    float64 \n",
      " 4   sibsp        712 non-null    int64   \n",
      " 5   parch        712 non-null    int64   \n",
      " 6   fare         712 non-null    float64 \n",
      " 7   embarked     712 non-null    object  \n",
      " 8   class        712 non-null    category\n",
      " 9   who          712 non-null    object  \n",
      " 10  adult_male   712 non-null    bool    \n",
      " 11  embark_town  712 non-null    object  \n",
      " 12  alive        712 non-null    object  \n",
      " 13  alone        712 non-null    bool    \n",
      "dtypes: bool(2), category(1), float64(2), int64(4), object(5)\n",
      "memory usage: 69.0+ KB\n"
     ]
    }
   ],
   "source": [
    "titanic.info()"
   ]
  },
  {
   "attachments": {},
   "cell_type": "markdown",
   "metadata": {},
   "source": [
    "### Create a new column called 'family_size' which represents the total number of family members (including the passenger) on board for each "
   ]
  },
  {
   "cell_type": "code",
   "execution_count": 16,
   "metadata": {},
   "outputs": [
    {
     "data": {
      "text/plain": [
       "1    402\n",
       "2    139\n",
       "3     93\n",
       "4     27\n",
       "6     22\n",
       "7     12\n",
       "5     11\n",
       "8      6\n",
       "Name: family_size, dtype: int64"
      ]
     },
     "execution_count": 16,
     "metadata": {},
     "output_type": "execute_result"
    }
   ],
   "source": [
    "titanic['family_size'] = titanic['sibsp'] + titanic['parch'] + 1\n",
    "titanic['family_size'].value_counts()\n"
   ]
  },
  {
   "attachments": {},
   "cell_type": "markdown",
   "metadata": {},
   "source": [
    "### Replace the values in the 'sex' column with 0 for 'male' and 1 for 'female'."
   ]
  },
  {
   "cell_type": "code",
   "execution_count": 17,
   "metadata": {},
   "outputs": [
    {
     "data": {
      "text/plain": [
       "0      0\n",
       "1      1\n",
       "2      1\n",
       "3      1\n",
       "4      0\n",
       "      ..\n",
       "885    1\n",
       "886    0\n",
       "887    1\n",
       "889    0\n",
       "890    0\n",
       "Name: sex, Length: 712, dtype: int64"
      ]
     },
     "execution_count": 17,
     "metadata": {},
     "output_type": "execute_result"
    }
   ],
   "source": [
    "string_to_int_map = lambda sex: 1 if sex == 'female' else 0\n",
    "\n",
    "titanic['sex'] = titanic['sex'].map(string_to_int_map)\n",
    "titanic['sex']\n",
    "\n",
    "# Another way\n",
    "titanic['sex'] = titanic['sex'].replace({'male': 0, 'female': 1})"
   ]
  },
  {
   "attachments": {},
   "cell_type": "markdown",
   "metadata": {},
   "source": [
    "- Create a new column called 'age_group' which represents the age group of each passenger. The age groups should be as follows:\n",
    "    - Child: age < 18\n",
    "    - Adult: 18 <= age < 60\n",
    "    - Senior: age >= 60"
   ]
  },
  {
   "cell_type": "code",
   "execution_count": 20,
   "metadata": {},
   "outputs": [
    {
     "data": {
      "text/plain": [
       "Adult     548\n",
       "Child     139\n",
       "Senior     25\n",
       "Name: age_group, dtype: int64"
      ]
     },
     "execution_count": 20,
     "metadata": {},
     "output_type": "execute_result"
    }
   ],
   "source": [
    "age_categorical_map = lambda age: 'Child' if age < 19 else 'Adult' if age < 60 else 'Senior'\n",
    "\n",
    "titanic['age_group'] = titanic['age'].map(age_categorical_map)\n",
    "titanic['age_group'].value_counts()"
   ]
  },
  {
   "attachments": {},
   "cell_type": "markdown",
   "metadata": {},
   "source": [
    "### Group the data by 'sex', 'pclass', and 'age_group' and calculate the survival rate for each group."
   ]
  },
  {
   "cell_type": "code",
   "execution_count": 29,
   "metadata": {},
   "outputs": [
    {
     "data": {
      "text/plain": [
       "sex  pclass  age_group\n",
       "0    1       Adult         41.46\n",
       "             Child         80.00\n",
       "             Senior        14.29\n",
       "     2       Adult          6.25\n",
       "             Child         60.00\n",
       "             Senior        25.00\n",
       "     3       Adult         13.64\n",
       "             Child         21.57\n",
       "             Senior         0.00\n",
       "1    1       Adult         97.14\n",
       "             Child         90.91\n",
       "             Senior       100.00\n",
       "     2       Adult         90.00\n",
       "             Child        100.00\n",
       "     3       Adult         41.38\n",
       "             Child         51.16\n",
       "             Senior       100.00\n",
       "Name: survived, dtype: float64"
      ]
     },
     "execution_count": 29,
     "metadata": {},
     "output_type": "execute_result"
    }
   ],
   "source": [
    "from pandas.core.groupby.generic import DataFrameGroupBy\n",
    "\n",
    "\n",
    "def survival_rate_map(grouped: DataFrameGroupBy):\n",
    "    return grouped['survived'].count() / titanic['survived']\n",
    "\n",
    "\n",
    "survival_rate = titanic.groupby(['sex', 'pclass', 'age_group'])['survived'].mean()\n",
    "survival_rate.map(lambda survival_rate: round(survival_rate * 100, 2))\n"
   ]
  }
 ],
 "metadata": {
  "kernelspec": {
   "display_name": ".venv",
   "language": "python",
   "name": "python3"
  },
  "language_info": {
   "codemirror_mode": {
    "name": "ipython",
    "version": 3
   },
   "file_extension": ".py",
   "mimetype": "text/x-python",
   "name": "python",
   "nbconvert_exporter": "python",
   "pygments_lexer": "ipython3",
   "version": "3.10.10"
  },
  "orig_nbformat": 4
 },
 "nbformat": 4,
 "nbformat_minor": 2
}
