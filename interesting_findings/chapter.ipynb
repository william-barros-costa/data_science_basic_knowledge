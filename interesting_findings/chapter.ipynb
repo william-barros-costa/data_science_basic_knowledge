{
 "cells": [
  {
   "attachments": {},
   "cell_type": "markdown",
   "metadata": {},
   "source": [
    "### All Columns are numeric"
   ]
  },
  {
   "cell_type": "code",
   "execution_count": 1,
   "metadata": {},
   "outputs": [],
   "source": [
    "import pandas as pd\n",
    "import numpy as np"
   ]
  },
  {
   "cell_type": "code",
   "execution_count": 4,
   "metadata": {},
   "outputs": [
    {
     "name": "stdout",
     "output_type": "stream",
     "text": [
      "0     int32\n",
      "1    string\n",
      "2     int32\n",
      "3     int32\n",
      "dtype: object\n",
      "True\n",
      "False\n"
     ]
    }
   ],
   "source": [
    "from pandas.api.types import is_numeric_dtype\n",
    "\n",
    "frame = pd.DataFrame(data=np.arange(12).reshape((3,4)))\n",
    "result1 = frame.dtypes.map(is_numeric_dtype).all()\n",
    "\n",
    "frame.iloc[:, 1] = pd.Series(list('abc'), dtype=pd.StringDtype())\n",
    "result2 = frame.dtypes.map(is_numeric_dtype).all()\n",
    "\n",
    "print(frame.dtypes)\n",
    "print(result1)\n",
    "print(result2)"
   ]
  }
 ],
 "metadata": {
  "kernelspec": {
   "display_name": ".venv",
   "language": "python",
   "name": "python3"
  },
  "language_info": {
   "codemirror_mode": {
    "name": "ipython",
    "version": 3
   },
   "file_extension": ".py",
   "mimetype": "text/x-python",
   "name": "python",
   "nbconvert_exporter": "python",
   "pygments_lexer": "ipython3",
   "version": "3.10.10"
  },
  "orig_nbformat": 4
 },
 "nbformat": 4,
 "nbformat_minor": 2
}
